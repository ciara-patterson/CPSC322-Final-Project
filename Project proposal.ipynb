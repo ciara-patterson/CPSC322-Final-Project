{
 "cells": [
  {
   "cell_type": "markdown",
   "metadata": {},
   "source": [
    "# Project Proposal - Ciara Patterson and Kat Sotelo"
   ]
  },
  {
   "cell_type": "markdown",
   "metadata": {},
   "source": [
    "## Dataset description \n",
    "We retrieved [this dataset from Kaggle.com](https://www.kaggle.com/danielgrijalvas/movies). It was posted as a single CSV file. This dataset contains information about 6820 movies, 220 movies each year from the year 1986-2016. This data was scraped from IMDb.\n",
    "\n",
    "The attributes on the dataset are:\n",
    "* Budget: The budget the movie had. For movies that don’t have any it is 0.\n",
    "* Company: The production company\n",
    "* Country: The movies country of origin\n",
    "* Director: The director of the movie\n",
    "* Genre: The main genre of the movie:\n",
    "* Gross: The revenue of the the movie\n",
    "* Name: The name of the movie\n",
    "* Rating: The rating of the movie (R, PG, PG-13, etc.)\n",
    "* Released: The release date(yyyy-mm-dd)\n",
    "* Runtime: The duration of the movie.\n",
    "* Score: What IMDb user rating it has.\n",
    "* Votes: The number of user votes.\n",
    "* Star: The main actor and actress\n",
    "* Writer: The writer of the movie\n",
    "* Year: The year of release. \n",
    "\n",
    "### Attribute to predict\n",
    "We will try to predict if a movie is high grossing. We can use attributes like the name to identify the movie, then look at some attributes like the score, votes, and budget. Then look at the gross attribute to see how accurate our comparisons are.  \n",
    "\n",
    "## Implementation/technical merit\n",
    "It doesn’t seem like there should be a lot pre-processing data. For budget if there is no value then it is automatically 0, the data seems to be pre-processed. However, if we are making predictions using information about the budget, we might have to remove those missing values if a 0 should be treated like a NULL value. To make sure there are no missing values we can scrape the data before we begin. It also seems as if there are no commas in each row which will be nice while we are working on the dataset. \n",
    "\n",
    "We do have 15 attributes, but to classify the grossness of a movie we don’t need to use all of them, so we'll have to decide what is most relevant. To select relevant features, we could do preliminary analysis to see if any particular actors, writers or directors are associated with higher than average grossing movies. These features have a lot of unique values so we might find early on that they're not useful for categorizing the data.\n",
    "\n",
    "Additionally, many of the attributes will have to be converted from quantitative variables to categorical variables using a binning process. Right now, predicting the gross is a regression problem. We will have to decide how to best bin the data to make this a classification problem. We will also have to bin features like the runtime and score.\n",
    "\n",
    "## Potential impact of the results\n",
    "The results of being able to predict higher grossing movies is useful for both studio executives and the general public.\n",
    "\n",
    "We could potentially look at what production companies or stars have the higher grossing movies. Movie stars might want to look at to see what production companies are more successful before they agree to sign onto a movie. Additionally, movie studios might want to cast stars that are associated with higher grossing movies. This is also something that investors would want to know to know where to invest their money. We could also potentially look at what genres produce higher grossing films. This could affect both what genre movies studio executives invest in and which genre movies actors are most interested in. Also for the public, they can predict if a movie will be good, or higher grossing, based on the available attributes to know if it will be worth watching. \n"
   ]
  }
 ],
 "metadata": {
  "kernelspec": {
   "display_name": "Python 3",
   "language": "python",
   "name": "python3"
  },
  "language_info": {
   "codemirror_mode": {
    "name": "ipython",
    "version": 3
   },
   "file_extension": ".py",
   "mimetype": "text/x-python",
   "name": "python",
   "nbconvert_exporter": "python",
   "pygments_lexer": "ipython3",
   "version": "3.8.5"
  }
 },
 "nbformat": 4,
 "nbformat_minor": 4
}
